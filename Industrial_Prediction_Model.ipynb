{
  "nbformat": 4,
  "nbformat_minor": 0,
  "metadata": {
    "colab": {
      "provenance": [],
      "authorship_tag": "ABX9TyNL/J5Q2Ly7lmXvSETogyi+",
      "include_colab_link": true
    },
    "kernelspec": {
      "name": "python3",
      "display_name": "Python 3"
    },
    "language_info": {
      "name": "python"
    }
  },
  "cells": [
    {
      "cell_type": "markdown",
      "metadata": {
        "id": "view-in-github",
        "colab_type": "text"
      },
      "source": [
        "<a href=\"https://colab.research.google.com/github/ManishaEY/eyaipythontraining/blob/main/Industrial_Prediction_Model.ipynb\" target=\"_parent\"><img src=\"https://colab.research.google.com/assets/colab-badge.svg\" alt=\"Open In Colab\"/></a>"
      ]
    },
    {
      "cell_type": "code",
      "source": [
        "import pandas as pd\n",
        "from sklearn.model_selection import train_test_split\n",
        "from sklearn.preprocessing import StandardScaler\n",
        "from sklearn.ensemble import RandomForestClassifier, GradientBoostingClassifier\n",
        "from sklearn.svm import SVC\n",
        "from sklearn.linear_model import LogisticRegression\n",
        "from sklearn.neighbors import KNeighborsClassifier\n",
        "from sklearn.metrics import classification_report, accuracy_score\n",
        "\n",
        "\n",
        "# The direct URL to the raw CSV file on GitHub\n",
        "url = 'https://raw.githubusercontent.com/ManishaEY/eyaipythontraining/main/equipment_data.csv'\n",
        "\n",
        "\n",
        "# Read dataset from the GitHub raw URL\n",
        "data = pd.read_csv(url)\n",
        "\n",
        "\n",
        "# Separate features and target variable\n",
        "X = data[['temperature', 'pressure', 'vibration', 'acoustic', 'operational_hours']]\n",
        "y = data['maintenance_performed']\n",
        "\n",
        "\n",
        "# Split the dataset into training (80%) and testing sets (20%)\n",
        "X_train, X_test, y_train, y_test = train_test_split(X, y, test_size=0.2, random_state=42)\n",
        "\n",
        "\n",
        "# Normalize the data (feature scaling)\n",
        "scaler = StandardScaler()\n",
        "X_train_scaled = scaler.fit_transform(X_train)\n",
        "X_test_scaled = scaler.transform(X_test)\n",
        "\n",
        "\n",
        "# Initialize machine learning models\n",
        "rf_clf = RandomForestClassifier(n_estimators=100, random_state=42)\n",
        "svm_clf = SVC()\n",
        "lr_clf = LogisticRegression()\n",
        "knn_clf = KNeighborsClassifier()\n",
        "gb_clf = GradientBoostingClassifier()\n",
        "\n",
        "\n",
        "# Train models on normalized data\n",
        "rf_clf.fit(X_train_scaled, y_train)\n",
        "svm_clf.fit(X_train_scaled, y_train)\n",
        "lr_clf.fit(X_train_scaled, y_train)\n",
        "knn_clf.fit(X_train_scaled, y_train)\n",
        "gb_clf.fit(X_train_scaled, y_train)\n",
        "\n",
        "\n",
        "# Make predictions on test data\n",
        "rf_predictions = rf_clf.predict(X_test_scaled)\n",
        "svm_predictions = svm_clf.predict(X_test_scaled)\n",
        "lr_predictions = lr_clf.predict(X_test_scaled)\n",
        "knn_predictions = knn_clf.predict(X_test_scaled)\n",
        "gb_predictions = gb_clf.predict(X_test_scaled)\n",
        "\n",
        "\n",
        "# Evaluate models' performance and print accuracies\n",
        "acc_dict = {\n",
        "    'Random Forest': accuracy_score(y_test, rf_predictions),\n",
        "    'Support Vector Machine': accuracy_score(y_test, svm_predictions),\n",
        "    'Logistic Regression': accuracy_score(y_test, lr_predictions),\n",
        "    'K-Nearest Neighbors': accuracy_score(y_test, knn_predictions),\n",
        "    'Gradient Boosting': accuracy_score(y_test, gb_predictions)\n",
        "}\n",
        "\n",
        "for model, acc in acc_dict.items():\n",
        "    print(f\"{model} Model Accuracy: {acc:.2f}\")\n",
        "\n",
        "# Select and print the best model based on accuracy\n",
        "best_model = max(acc_dict, key=acc_dict.get)\n",
        "best_model_score = acc_dict[best_model]\n",
        "print(f\"\\nThe best model is {best_model} with an accuracy of {best_model_score:.2f}\")\n"
      ],
      "metadata": {
        "colab": {
          "base_uri": "https://localhost:8080/"
        },
        "id": "S8OtCcU9tIVW",
        "outputId": "de9261ad-51d9-4142-bb0b-b914b29c3f44"
      },
      "execution_count": 4,
      "outputs": [
        {
          "output_type": "stream",
          "name": "stdout",
          "text": [
            "Random Forest Model Accuracy: 0.54\n",
            "Support Vector Machine Model Accuracy: 0.56\n",
            "Logistic Regression Model Accuracy: 0.56\n",
            "K-Nearest Neighbors Model Accuracy: 0.54\n",
            "Gradient Boosting Model Accuracy: 0.54\n",
            "\n",
            "The best model is Support Vector Machine with an accuracy of 0.56\n"
          ]
        }
      ]
    }
  ]
}