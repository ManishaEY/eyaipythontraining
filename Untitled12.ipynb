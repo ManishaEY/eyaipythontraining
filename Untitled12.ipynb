{
  "nbformat": 4,
  "nbformat_minor": 0,
  "metadata": {
    "colab": {
      "provenance": [],
      "authorship_tag": "ABX9TyP23DDWX6MKvZwp+i7EqTn+",
      "include_colab_link": true
    },
    "kernelspec": {
      "name": "python3",
      "display_name": "Python 3"
    },
    "language_info": {
      "name": "python"
    }
  },
  "cells": [
    {
      "cell_type": "markdown",
      "metadata": {
        "id": "view-in-github",
        "colab_type": "text"
      },
      "source": [
        "<a href=\"https://colab.research.google.com/github/ManishaEY/eyaipythontraining/blob/main/Untitled12.ipynb\" target=\"_parent\"><img src=\"https://colab.research.google.com/assets/colab-badge.svg\" alt=\"Open In Colab\"/></a>"
      ]
    },
    {
      "cell_type": "code",
      "execution_count": 1,
      "metadata": {
        "colab": {
          "base_uri": "https://localhost:8080/"
        },
        "id": "RRM2ZuD-w-Oh",
        "outputId": "adb90da7-39f1-43e3-bf9f-96c6ae924461"
      },
      "outputs": [
        {
          "output_type": "stream",
          "name": "stdout",
          "text": [
            "Random Forest Model Accuracy: 0.51\n",
            "Support Vector Machine Model Accuracy: 0.50\n",
            "\n",
            "Random Forest Classification Report:\n",
            "              precision    recall  f1-score   support\n",
            "\n",
            "           0       0.51      0.51      0.51        99\n",
            "           1       0.51      0.51      0.51       101\n",
            "\n",
            "    accuracy                           0.51       200\n",
            "   macro avg       0.51      0.51      0.51       200\n",
            "weighted avg       0.51      0.51      0.51       200\n",
            "\n",
            "\n",
            "Support Vector Machine Classification Report:\n",
            "              precision    recall  f1-score   support\n",
            "\n",
            "           0       0.50      0.52      0.50        99\n",
            "           1       0.51      0.49      0.49       101\n",
            "\n",
            "    accuracy                           0.50       200\n",
            "   macro avg       0.50      0.50      0.50       200\n",
            "weighted avg       0.50      0.50      0.50       200\n",
            "\n",
            "The best model is Random Forest\n"
          ]
        }
      ],
      "source": [
        "import pandas as pd\n",
        "from sklearn.model_selection import train_test_split\n",
        "from sklearn.preprocessing import StandardScaler\n",
        "from sklearn.ensemble import RandomForestClassifier\n",
        "from sklearn.svm import SVC\n",
        "from sklearn.metrics import classification_report, accuracy_score\n",
        "\n",
        "# The direct URL to the raw CSV file on GitHub\n",
        "url = 'https://raw.githubusercontent.com/ManishaEY/eyaipythontraining/main/equipment_data.csv'\n",
        "\n",
        "# Read dataset from the GitHub raw URL\n",
        "data = pd.read_csv(url)\n",
        "\n",
        "# Separate features and target variable\n",
        "X = data[['temperature', 'pressure', 'vibration', 'acoustic', 'operational_hours']]\n",
        "y = data['maintenance_performed']\n",
        "\n",
        "# Split the dataset into training (80%) and testing sets (20%)\n",
        "X_train, X_test, y_train, y_test = train_test_split(X, y, test_size=0.2, random_state=42)\n",
        "\n",
        "# Normalize the data (feature scaling)\n",
        "scaler = StandardScaler()\n",
        "X_train_scaled = scaler.fit_transform(X_train)\n",
        "X_test_scaled = scaler.transform(X_test)\n",
        "\n",
        "# Initialize machine learning models\n",
        "rf_clf = RandomForestClassifier(n_estimators=100, random_state=42)\n",
        "svm_clf = SVC()\n",
        "\n",
        "# Train models on normalized data\n",
        "rf_clf.fit(X_train_scaled, y_train)\n",
        "svm_clf.fit(X_train_scaled, y_train)\n",
        "\n",
        "# Make predictions on test data\n",
        "rf_predictions = rf_clf.predict(X_test_scaled)\n",
        "svm_predictions = svm_clf.predict(X_test_scaled)\n",
        "\n",
        "# Evaluate models' performance\n",
        "rf_acc = accuracy_score(y_test, rf_predictions)\n",
        "svm_acc = accuracy_score(y_test, svm_predictions)\n",
        "\n",
        "rf_report = classification_report(y_test, rf_predictions)\n",
        "svm_report = classification_report(y_test, svm_predictions)\n",
        "\n",
        "print(f\"Random Forest Model Accuracy: {rf_acc:.2f}\")\n",
        "print(f\"Support Vector Machine Model Accuracy: {svm_acc:.2f}\")\n",
        "print(\"\\nRandom Forest Classification Report:\")\n",
        "print(rf_report)\n",
        "print(\"\\nSupport Vector Machine Classification Report:\")\n",
        "print(svm_report)\n",
        "\n",
        "# Select and print the best model based on accuracy\n",
        "best_model = 'Random Forest' if rf_acc > svm_acc else 'Support Vector Machine'\n",
        "print(f\"The best model is {best_model}\")"
      ]
    }
  ]
}